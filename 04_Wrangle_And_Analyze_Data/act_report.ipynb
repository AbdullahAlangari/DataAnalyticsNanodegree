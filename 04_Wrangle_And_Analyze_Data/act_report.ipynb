{
 "cells": [
  {
   "cell_type": "markdown",
   "metadata": {},
   "source": [
    "## Report: act_report\n",
    "* Create a **250-word-minimum written report** called \"act_report.pdf\" or \"act_report.html\" that communicates the insights and displays the visualization(s) produced from your wrangled data. This is to be framed as an external document, like a blog post or magazine article, for example."
   ]
  },
  {
   "attachments": {},
   "cell_type": "markdown",
   "metadata": {},
   "source": [
    "After wrangling the data, I started drawing conclusions based on the data we have, and after grouping by dog breed we found out that our predictions algorithm is generally most confident with specific (it was most confident about clumber dogs) dog types and less confident about specific dog breeds (it was least confident when guessing Scottish Deerhound dogs). This information about confidence could be really significant when trying to work on improving our dog classification algorithm in the future by knowing what dogs require more information to classify and detecting the possbible areas of improvement in our used pictures and/or our algorithm.\n",
    "\n",
    "\n",
    "Furthermore, I also noted the significant improvement of the account by providing a visualisation using python's matplotlib libary and logging the interactions with the account from the general public (namely, favorites and retweets) over the 3 years that we have data for ragarding the account's activity. Where in 2015, the account had a mean of 2357 favorites and 969 retweets per tweet, but this interaction grew in 2016 to reach 7460 favourites and 2495 retweets per tweet. Then finally in 2017, the account reached an all time high by reaching a whopping 24,202 favorites per tweet coupled with more than 6000 retweets for every tweet the acount has published. The exponential growth and the increasing interaction with this account shows that our beloved WeRateDogs (@rog_rates) is gaining significant public reputation given its amusing and unique methods in which the account rates dogs and shows how data analysis could point out exactly how this growth happened over the years\n",
    "\n",
    "\n",
    "![alt text](Visualisation.png \"Visualisation\")"
   ]
  },
  {
   "cell_type": "code",
   "execution_count": null,
   "metadata": {},
   "outputs": [],
   "source": []
  }
 ],
 "metadata": {
  "kernelspec": {
   "display_name": "Python 3",
   "language": "python",
   "name": "python3"
  },
  "language_info": {
   "codemirror_mode": {
    "name": "ipython",
    "version": 3
   },
   "file_extension": ".py",
   "mimetype": "text/x-python",
   "name": "python",
   "nbconvert_exporter": "python",
   "pygments_lexer": "ipython3",
   "version": "3.6.3"
  }
 },
 "nbformat": 4,
 "nbformat_minor": 2
}
